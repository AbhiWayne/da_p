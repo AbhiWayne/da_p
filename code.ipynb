{
 "cells": [
  {
   "cell_type": "code",
   "execution_count": 1,
   "metadata": {},
   "outputs": [],
   "source": [
    "import pandas as pd\n",
    "import numpy as np\n",
    "import matplotlib.pyplot as plt\n",
    "import seaborn as sns\n",
    "from numpy import linalg as la"
   ]
  },
  {
   "cell_type": "code",
   "execution_count": 3,
   "metadata": {},
   "outputs": [
    {
     "name": "stderr",
     "output_type": "stream",
     "text": [
      "100%|██████████| 500/500 [00:38<00:00, 12.85it/s]\n"
     ]
    },
    {
     "data": {
      "text/plain": [
       "(589824, 500)"
      ]
     },
     "execution_count": 3,
     "metadata": {},
     "output_type": "execute_result"
    }
   ],
   "source": [
    "#for x\n",
    "#use tqdm for progress barin for loop\n",
    "from tqdm import tqdm\n",
    "n= 500\n",
    "for i in tqdm(range(0,n)):\n",
    "    n = i\n",
    "    file_path  = r'X:\\GIt\\Dataset\\2018M01\\{}.npy'.format(n)\n",
    "    temp1 = np.load(file_path)\n",
    "    temp2 = temp1.reshape(-1,1)\n",
    "    if n==0:\n",
    "        x = temp2\n",
    "    else:\n",
    "        x = np.hstack((x,temp2))\n",
    "x.shape"
   ]
  },
  {
   "cell_type": "code",
   "execution_count": null,
   "metadata": {},
   "outputs": [],
   "source": [
    "#for x'\n",
    "n=500\n",
    "for i in tqdm(range(1,n+1)):\n",
    "    n = i\n",
    "    file_path  = r'X:\\GIt\\Dataset\\2018M01\\{}.npy'.format(n)\n",
    "    temp1 = np.load(file_path)\n",
    "    temp2 = temp1.reshape(-1,1)\n",
    "    if n==1:\n",
    "        x_p = temp2\n",
    "    else:\n",
    "        x_p = np.hstack((x_p,temp2))\n",
    "x_p.shape"
   ]
  },
  {
   "cell_type": "code",
   "execution_count": null,
   "metadata": {},
   "outputs": [],
   "source": [
    "#image example\n",
    "file_path = r'X:\\GIt\\Dataset\\2018M01\\0.npy'\n",
    "example = np.load(file_path)\n",
    "plt.imshow(example,cmap= 'gray')"
   ]
  },
  {
   "cell_type": "code",
   "execution_count": null,
   "metadata": {},
   "outputs": [],
   "source": [
    "#load timestamp file as dataframe\n",
    "file_path = r'X:\\GIt\\Dataset\\2018M01\\TIMESTAMPS.npy'\n",
    "timestamp= np.load(file_path)\n",
    "timestamp = pd.DataFrame(timestamp)\n",
    "#loading geo file as dataframe\n",
    "file_path = r'X:\\GIt\\Dataset\\2018M01\\GEO.npz'\n",
    "geo= np.load(file_path)\n",
    "geo = pd.DataFrame(geo)"
   ]
  },
  {
   "cell_type": "code",
   "execution_count": null,
   "metadata": {},
   "outputs": [],
   "source": [
    "#get singular value decompositon of x\n",
    "u,s,v = la.svd(x,full_matrices=False)\n",
    "#plot singular values on semilog scale\n",
    "plt.semilogy(s)\n",
    "plt.title('Singular Values')"
   ]
  },
  {
   "cell_type": "code",
   "execution_count": null,
   "metadata": {},
   "outputs": [],
   "source": [
    "#Truncate u, s , v at 25 modes\n",
    "k=25\n",
    "u_k = u[:,:k]\n",
    "s_k = s[:k]\n",
    "v_k = v[:k,:]\n",
    "print(u_k.shape)\n",
    "print(s_k.shape)\n",
    "print(v_k.shape)"
   ]
  },
  {
   "cell_type": "code",
   "execution_count": null,
   "metadata": {},
   "outputs": [],
   "source": [
    "#Forming A_tilde\n",
    "A_tilde = u_k.T@x_p@v_k.T@la.inv(np.diag(s_k))\n",
    "A_tilde.shape"
   ]
  },
  {
   "cell_type": "code",
   "execution_count": null,
   "metadata": {},
   "outputs": [],
   "source": [
    "#Get Eigenvectors and Eigenvalues of A_tilde\n",
    "e_val,w = la.eig(A_tilde)"
   ]
  },
  {
   "cell_type": "code",
   "execution_count": null,
   "metadata": {},
   "outputs": [],
   "source": [
    "Phi = x_p@v_k.T@la.inv(np.diag(s_k))@w\n",
    "Phi.shape"
   ]
  },
  {
   "cell_type": "code",
   "execution_count": null,
   "metadata": {},
   "outputs": [],
   "source": [
    "#plotting all modes of Phi\n",
    "for i in range(0,8):\n",
    "    V = np.copy(np.real(np.reshape(Phi[:,i],(128,128))))\n",
    "    plt.title('Mode {}'.format(i+1))\n",
    "    plt.imshow(V,cmap='gray')\n",
    "    plt.colorbar()\n",
    "    plt.show()\n"
   ]
  }
 ],
 "metadata": {
  "kernelspec": {
   "display_name": "Python 3",
   "language": "python",
   "name": "python3"
  },
  "language_info": {
   "codemirror_mode": {
    "name": "ipython",
    "version": 3
   },
   "file_extension": ".py",
   "mimetype": "text/x-python",
   "name": "python",
   "nbconvert_exporter": "python",
   "pygments_lexer": "ipython3",
   "version": "3.11.4"
  }
 },
 "nbformat": 4,
 "nbformat_minor": 2
}
